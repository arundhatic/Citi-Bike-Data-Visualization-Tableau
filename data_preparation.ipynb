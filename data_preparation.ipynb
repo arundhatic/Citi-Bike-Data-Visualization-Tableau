{
 "cells": [
  {
   "cell_type": "code",
   "execution_count": 1,
   "metadata": {},
   "outputs": [],
   "source": [
    "from bs4 import BeautifulSoup\n",
    "import pandas as pd\n",
    "from selenium import webdriver\n",
    "from io import BytesIO\n",
    "from zipfile import ZipFile\n",
    "import urllib.request\n",
    "import os"
   ]
  },
  {
   "cell_type": "code",
   "execution_count": 2,
   "metadata": {},
   "outputs": [],
   "source": [
    "browser = webdriver.Chrome('/usr/local/bin/chromedriver')"
   ]
  },
  {
   "cell_type": "code",
   "execution_count": 3,
   "metadata": {},
   "outputs": [],
   "source": [
    "browser.get('https://s3.amazonaws.com/tripdata/index.html')"
   ]
  },
  {
   "cell_type": "code",
   "execution_count": 4,
   "metadata": {},
   "outputs": [],
   "source": [
    "#get all links\n",
    "all_links = [link.get_attribute('href') for link in browser.find_elements_by_tag_name('a')]"
   ]
  },
  {
   "cell_type": "code",
   "execution_count": 5,
   "metadata": {},
   "outputs": [],
   "source": [
    "# extract necessary links\n",
    "linksJC_18 = [link for link in all_links if 'JC' in link if '2018' in link]\n",
    "links_18 = [link for link in all_links if 'JC' not in link if '2018' in link]\n",
    "linksJC_19 = [link for link in all_links if 'JC' in link if '2019' in link]\n",
    "linksJC_20 = [link for link in all_links if 'JC' in link if '2020' in link]\n",
    "links_20 = [link for link in all_links if 'JC' not in link if '2020' in link]"
   ]
  },
  {
   "cell_type": "code",
   "execution_count": 6,
   "metadata": {},
   "outputs": [],
   "source": [
    "# function for downloading, unziping and dataframing data from a link\n",
    "def create_df(link):\n",
    "    \n",
    "    url = urllib.request.urlopen(link)\n",
    "    output = open('temporary.zip', 'wb')    \n",
    "    output.write(url.read())\n",
    "    output.close()\n",
    "    dataframe = pd.read_csv('temporary.zip')\n",
    "    dataframe.columns = ['Trip Duration (sec)', 'Start Time', 'Stop Time', 'Start Station ID',\n",
    "   'Start Station Name', 'Start Station Latitude',\n",
    "   'Start Station Longitude', 'End Station ID', 'End Station Name',\n",
    "   'End Station Latitude', 'End Station Longitude', 'Bike ID', 'User Type',\n",
    "   'Birth_Year', 'Gender']\n",
    "        \n",
    "    print(link)\n",
    "    os.remove('temporary.zip')\n",
    "    \n",
    "    return dataframe"
   ]
  },
  {
   "cell_type": "code",
   "execution_count": 7,
   "metadata": {},
   "outputs": [],
   "source": [
    "# function for cleaning and preparing df\n",
    "def prepare_df_2018(df):\n",
    "    \n",
    "#     drop n/a\n",
    "    df = df.dropna(how='any').reset_index(drop=True)\n",
    "    \n",
    "#     change data types\n",
    "    df['Birth_Year'] = df.Birth_Year.astype(int)\n",
    "    df['Start Time'] = pd.to_datetime(df['Start Time'])\n",
    "    df['Stop Time'] = pd.to_datetime(df['Stop Time'])\n",
    "    \n",
    "#     add Dge column\n",
    "    df['Age'] = 2018 - df['Birth_Year']\n",
    "    \n",
    "#     exclude ages > 90 years\n",
    "    df = df[df['Age'] < 90]\n",
    "    \n",
    "    return df"
   ]
  },
  {
   "cell_type": "code",
   "execution_count": 8,
   "metadata": {},
   "outputs": [],
   "source": [
    "# function for cleaning and preparing df\n",
    "def prepare_df_2019(df):\n",
    "    \n",
    "#     drop n/a\n",
    "    df = df.dropna(how='any').reset_index(drop=True)\n",
    "    \n",
    "#     change data types\n",
    "    df['Birth_Year'] = df.Birth_Year.astype(int)\n",
    "    df['Start Time'] = pd.to_datetime(df['Start Time'])\n",
    "    df['Stop Time'] = pd.to_datetime(df['Stop Time'])\n",
    "    \n",
    "#     add Dge column\n",
    "    df['Age'] = 2019 - df['Birth_Year']\n",
    "    \n",
    "#     exclude ages > 90 years\n",
    "    df = df[df['Age'] < 90]\n",
    "    \n",
    "    return df"
   ]
  },
  {
   "cell_type": "code",
   "execution_count": 9,
   "metadata": {},
   "outputs": [],
   "source": [
    "# create empty df\n",
    "ny18 = pd.DataFrame()\n",
    "nyJC18 = pd.DataFrame()\n",
    "nyJC19 = pd.DataFrame()\n",
    "ny20 = pd.DataFrame()\n",
    "nyJC20 = pd.DataFrame()"
   ]
  },
  {
   "cell_type": "code",
   "execution_count": 10,
   "metadata": {},
   "outputs": [
    {
     "name": "stdout",
     "output_type": "stream",
     "text": [
      "https://s3.amazonaws.com/tripdata/201801-citibike-tripdata.csv.zip\n",
      "https://s3.amazonaws.com/tripdata/201802-citibike-tripdata.csv.zip\n",
      "https://s3.amazonaws.com/tripdata/201803-citibike-tripdata.csv.zip\n",
      "https://s3.amazonaws.com/tripdata/201804-citibike-tripdata.csv.zip\n",
      "https://s3.amazonaws.com/tripdata/201805-citibike-tripdata.csv.zip\n",
      "https://s3.amazonaws.com/tripdata/201806-citibike-tripdata.csv.zip\n",
      "https://s3.amazonaws.com/tripdata/201807-citibike-tripdata.csv.zip\n",
      "https://s3.amazonaws.com/tripdata/201808-citibike-tripdata.csv.zip\n",
      "https://s3.amazonaws.com/tripdata/201809-citibike-tripdata.csv.zip\n",
      "https://s3.amazonaws.com/tripdata/201810-citibike-tripdata.csv.zip\n",
      "https://s3.amazonaws.com/tripdata/201811-citibike-tripdata.csv.zip\n",
      "https://s3.amazonaws.com/tripdata/201812-citibike-tripdata.csv.zip\n"
     ]
    }
   ],
   "source": [
    "# append to new df\n",
    "for link in links_18:\n",
    "    temporary_df = create_df(link)\n",
    "    ny18 = ny18.append(temporary_df, ignore_index=True, sort=False)"
   ]
  },
  {
   "cell_type": "code",
   "execution_count": 11,
   "metadata": {},
   "outputs": [
    {
     "name": "stdout",
     "output_type": "stream",
     "text": [
      "https://s3.amazonaws.com/tripdata/JC-201801-citibike-tripdata.csv.zip\n",
      "https://s3.amazonaws.com/tripdata/JC-201802-citibike-tripdata.csv.zip\n",
      "https://s3.amazonaws.com/tripdata/JC-201803-citibike-tripdata.csv.zip\n",
      "https://s3.amazonaws.com/tripdata/JC-201804-citibike-tripdata.csv.zip\n",
      "https://s3.amazonaws.com/tripdata/JC-201805-citibike-tripdata.csv.zip\n",
      "https://s3.amazonaws.com/tripdata/JC-201806-citibike-tripdata.csv.zip\n",
      "https://s3.amazonaws.com/tripdata/JC-201807-citibike-tripdata.csv.zip\n",
      "https://s3.amazonaws.com/tripdata/JC-201808-citibike-tripdata.csv.zip\n",
      "https://s3.amazonaws.com/tripdata/JC-201809-citibike-tripdata.csv.zip\n",
      "https://s3.amazonaws.com/tripdata/JC-201810-citibike-tripdata.csv.zip\n",
      "https://s3.amazonaws.com/tripdata/JC-201811-citibike-tripdata.csv.zip\n",
      "https://s3.amazonaws.com/tripdata/JC-201812-citibike-tripdata.csv.zip\n"
     ]
    }
   ],
   "source": [
    "# append to new df\n",
    "for link in linksJC_18:\n",
    "    temporary_df = create_df(link)\n",
    "    nyJC18 = nyJC18.append(temporary_df, ignore_index=True, sort=False)"
   ]
  },
  {
   "cell_type": "code",
   "execution_count": 12,
   "metadata": {},
   "outputs": [
    {
     "name": "stdout",
     "output_type": "stream",
     "text": [
      "https://s3.amazonaws.com/tripdata/JC-201901-citibike-tripdata.csv.zip\n",
      "https://s3.amazonaws.com/tripdata/JC-201902-citibike-tripdata.csv.zip\n",
      "https://s3.amazonaws.com/tripdata/JC-201903-citibike-tripdata.csv.zip\n",
      "https://s3.amazonaws.com/tripdata/JC-201904-citibike-tripdata.csv.zip\n",
      "https://s3.amazonaws.com/tripdata/JC-201905-citibike-tripdata.csv.zip\n",
      "https://s3.amazonaws.com/tripdata/JC-201906-citibike-tripdata.csv.zip\n",
      "https://s3.amazonaws.com/tripdata/JC-201907-citibike-tripdata.csv.zip\n",
      "https://s3.amazonaws.com/tripdata/JC-201908-citibike-tripdata.csv.zip\n",
      "https://s3.amazonaws.com/tripdata/JC-201909-citibike-tripdata.csv.zip\n",
      "https://s3.amazonaws.com/tripdata/JC-201910-citibike-tripdata.csv.zip\n",
      "https://s3.amazonaws.com/tripdata/JC-201911-citibike-tripdata.csv.zip\n",
      "https://s3.amazonaws.com/tripdata/JC-201912-citibike-tripdata.csv.zip\n"
     ]
    }
   ],
   "source": [
    "for link in linksJC_19:\n",
    "    temporary_df = create_df(link)\n",
    "    nyJC19 = nyJC19.append(temporary_df, ignore_index=True, sort=False)"
   ]
  },
  {
   "cell_type": "code",
   "execution_count": 13,
   "metadata": {},
   "outputs": [
    {
     "name": "stdout",
     "output_type": "stream",
     "text": [
      "https://s3.amazonaws.com/tripdata/202001-citibike-tripdata.csv.zip\n",
      "https://s3.amazonaws.com/tripdata/202002-citibike-tripdata.csv.zip\n"
     ]
    }
   ],
   "source": [
    "# append to new df\n",
    "for link in links_20:\n",
    "    temporary_df = create_df(link)\n",
    "    ny20 = ny20.append(temporary_df, ignore_index=True, sort=False)"
   ]
  },
  {
   "cell_type": "code",
   "execution_count": 14,
   "metadata": {},
   "outputs": [
    {
     "name": "stdout",
     "output_type": "stream",
     "text": [
      "https://s3.amazonaws.com/tripdata/JC-202001-citibike-tripdata.csv.zip\n",
      "https://s3.amazonaws.com/tripdata/JC-202002-citibike-tripdata.csv.zip\n"
     ]
    }
   ],
   "source": [
    "for link in linksJC_20:\n",
    "    temporary_df = create_df(link)\n",
    "    nyJC20 = nyJC20.append(temporary_df, ignore_index=True, sort=False)"
   ]
  },
  {
   "cell_type": "code",
   "execution_count": 15,
   "metadata": {},
   "outputs": [],
   "source": [
    "# clean and prepare df\n",
    "ny18 = prepare_df_2018(ny18)\n",
    "nyJC18 = prepare_df_2018(nyJC18)"
   ]
  },
  {
   "cell_type": "code",
   "execution_count": 76,
   "metadata": {},
   "outputs": [],
   "source": [
    "# clean and prepare df\n",
    "nyJC19 = prepare_df_2019(nyJC19)\n"
   ]
  },
  {
   "cell_type": "code",
   "execution_count": 77,
   "metadata": {},
   "outputs": [],
   "source": [
    "# clean and prepare df\n",
    "ny20 = prepare_df_2019(ny20)\n",
    "nyJC20 = prepare_df_2019(nyJC20)"
   ]
  },
  {
   "cell_type": "code",
   "execution_count": 16,
   "metadata": {},
   "outputs": [
    {
     "data": {
      "text/plain": [
       "Trip Duration (sec)        17886146\n",
       "Start Time                 17886146\n",
       "Stop Time                  17886146\n",
       "Start Station ID           17886146\n",
       "Start Station Name         17886146\n",
       "Start Station Latitude     17886146\n",
       "Start Station Longitude    17886146\n",
       "End Station ID             17886146\n",
       "End Station Name           17886146\n",
       "End Station Latitude       17886146\n",
       "End Station Longitude      17886146\n",
       "Bike ID                    17886146\n",
       "User Type                  17886146\n",
       "Birth_Year                 17886146\n",
       "Gender                     17886146\n",
       "Age                        17886146\n",
       "dtype: int64"
      ]
     },
     "execution_count": 16,
     "metadata": {},
     "output_type": "execute_result"
    }
   ],
   "source": [
    "nydf18 = pd.DataFrame()\n",
    "nydf18 = ny18.append(nyJC18, ignore_index=True, sort=False)\n",
    "nydf18.count()"
   ]
  },
  {
   "cell_type": "code",
   "execution_count": 17,
   "metadata": {},
   "outputs": [],
   "source": [
    "nydf18.to_csv('data/nybike_from_url_2018.csv', encoding='utf-8', index=False)"
   ]
  },
  {
   "cell_type": "code",
   "execution_count": 79,
   "metadata": {},
   "outputs": [
    {
     "data": {
      "text/plain": [
       "Trip Duration (sec)        18290896\n",
       "Start Time                 18290896\n",
       "Stop Time                  18290896\n",
       "Start Station ID           18290896\n",
       "Start Station Name         18290896\n",
       "Start Station Latitude     18290896\n",
       "Start Station Longitude    18290896\n",
       "End Station ID             18290896\n",
       "End Station Name           18290896\n",
       "End Station Latitude       18290896\n",
       "End Station Longitude      18290896\n",
       "Bike ID                    18290896\n",
       "User Type                  18290896\n",
       "Birth_Year                 18290896\n",
       "Gender                     18290896\n",
       "Age                        18290896\n",
       "dtype: int64"
      ]
     },
     "execution_count": 79,
     "metadata": {},
     "output_type": "execute_result"
    }
   ],
   "source": [
    "nydf19 = pd.DataFrame()\n",
    "nydf19 = nydf18.append(nyJC19, ignore_index=True, sort=False)\n",
    "nydf19.count()# has data of 18 and 19"
   ]
  },
  {
   "cell_type": "code",
   "execution_count": 80,
   "metadata": {},
   "outputs": [
    {
     "data": {
      "text/plain": [
       "Trip Duration (sec)        2435258\n",
       "Start Time                 2435258\n",
       "Stop Time                  2435258\n",
       "Start Station ID           2435258\n",
       "Start Station Name         2435258\n",
       "Start Station Latitude     2435258\n",
       "Start Station Longitude    2435258\n",
       "End Station ID             2435258\n",
       "End Station Name           2435258\n",
       "End Station Latitude       2435258\n",
       "End Station Longitude      2435258\n",
       "Bike ID                    2435258\n",
       "User Type                  2435258\n",
       "Birth_Year                 2435258\n",
       "Gender                     2435258\n",
       "Age                        2435258\n",
       "dtype: int64"
      ]
     },
     "execution_count": 80,
     "metadata": {},
     "output_type": "execute_result"
    }
   ],
   "source": [
    "nydf20 = pd.DataFrame()\n",
    "nydf20 = ny20.append(nyJC20, ignore_index=True, sort=False)\n",
    "nydf20.count()# has data of 20 "
   ]
  },
  {
   "cell_type": "code",
   "execution_count": 81,
   "metadata": {},
   "outputs": [
    {
     "data": {
      "text/plain": [
       "Trip Duration (sec)        20726154\n",
       "Start Time                 20726154\n",
       "Stop Time                  20726154\n",
       "Start Station ID           20726154\n",
       "Start Station Name         20726154\n",
       "Start Station Latitude     20726154\n",
       "Start Station Longitude    20726154\n",
       "End Station ID             20726154\n",
       "End Station Name           20726154\n",
       "End Station Latitude       20726154\n",
       "End Station Longitude      20726154\n",
       "Bike ID                    20726154\n",
       "User Type                  20726154\n",
       "Birth_Year                 20726154\n",
       "Gender                     20726154\n",
       "Age                        20726154\n",
       "dtype: int64"
      ]
     },
     "execution_count": 81,
     "metadata": {},
     "output_type": "execute_result"
    }
   ],
   "source": [
    "nydf18_19_20 = pd.DataFrame()\n",
    "nydf18_19_20 = nydf20.append(nydf19, ignore_index=True, sort=False)\n",
    "nydf18_19_20.count()"
   ]
  },
  {
   "cell_type": "code",
   "execution_count": 82,
   "metadata": {},
   "outputs": [],
   "source": [
    "nydf18_19_20.to_csv('data/nybike_from_url_2018_2019_2020.csv', encoding='utf-8', index=False)"
   ]
  },
  {
   "cell_type": "code",
   "execution_count": null,
   "metadata": {},
   "outputs": [],
   "source": []
  }
 ],
 "metadata": {
  "kernelspec": {
   "display_name": "Python 3",
   "language": "python",
   "name": "python3"
  },
  "language_info": {
   "codemirror_mode": {
    "name": "ipython",
    "version": 3
   },
   "file_extension": ".py",
   "mimetype": "text/x-python",
   "name": "python",
   "nbconvert_exporter": "python",
   "pygments_lexer": "ipython3",
   "version": "3.7.6"
  }
 },
 "nbformat": 4,
 "nbformat_minor": 2
}
